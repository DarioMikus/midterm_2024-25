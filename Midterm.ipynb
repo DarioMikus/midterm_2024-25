{
 "cells": [
  {
   "cell_type": "code",
   "execution_count": 70,
   "id": "3cae1ed3-efc3-44da-91a8-dba7a36b3086",
   "metadata": {},
   "outputs": [],
   "source": [
    "import seaborn as sns\n",
    "import pandas as pd\n",
    "import numpy as np\n",
    "import bs4\n",
    "import requests\n",
    "import datetime\n",
    "import zipfile\n",
    "import matplotlib as plt"
   ]
  },
  {
   "cell_type": "code",
   "execution_count": 71,
   "id": "74ba68a1-9d71-4f02-8e22-d44beaef3d0d",
   "metadata": {},
   "outputs": [
    {
     "name": "stdout",
     "output_type": "stream",
     "text": [
      "['data/MSI.csv', 'data/KMX.csv', 'data/DVN.csv', 'data/IPG.csv']\n"
     ]
    }
   ],
   "source": [
    "with zipfile.ZipFile('60237682.zip') as z:\n",
    "    print(z.namelist())"
   ]
  },
  {
   "cell_type": "code",
   "execution_count": 72,
   "id": "388ca80d-0866-4da0-8908-0971c5e34797",
   "metadata": {},
   "outputs": [],
   "source": [
    "with zipfile.ZipFile('60237682.zip') as z:\n",
    "    with z.open('data/MSI.csv') as f:\n",
    "        MSI = pd.read_csv(f)\n",
    "    with z.open('data/KMX.csv') as f:\n",
    "        KMX = pd.read_csv(f)\n",
    "    with z.open('data/DVN.csv') as f:\n",
    "        DVN = pd.read_csv(f)\n",
    "    with z.open('data/IPG.csv') as f:\n",
    "        IPG = pd.read_csv(f)"
   ]
  },
  {
   "cell_type": "code",
   "execution_count": 73,
   "id": "a8da4f2e-0a88-4992-82f6-ecd6d869326f",
   "metadata": {},
   "outputs": [],
   "source": [
    "MSI[\"company\"] = \"MSI\"\n",
    "KMX[\"company\"] = \"KMX\"\n",
    "DVN[\"company\"] = \"DVN\"\n",
    "IPG[\"company\"] = \"IPG\"\n"
   ]
  },
  {
   "cell_type": "code",
   "execution_count": 74,
   "id": "87172bf4-7df4-4070-9b21-f21fa46defcf",
   "metadata": {},
   "outputs": [],
   "source": [
    "data = pd.concat([MSI, KMX, DVN, IPG])"
   ]
  },
  {
   "cell_type": "code",
   "execution_count": 75,
   "id": "812f30f9-5199-46e1-b53b-60e6a37c8c7c",
   "metadata": {},
   "outputs": [],
   "source": [
    "data = data.set_index(\"Date\")"
   ]
  },
  {
   "cell_type": "markdown",
   "id": "d7f14710-a87a-41f1-a1a4-b628595c98bc",
   "metadata": {},
   "source": [
    "TASK1"
   ]
  },
  {
   "cell_type": "code",
   "execution_count": 76,
   "id": "dfe9e7f4-0927-4d83-8712-b4a9470400dc",
   "metadata": {},
   "outputs": [
    {
     "name": "stderr",
     "output_type": "stream",
     "text": [
      "C:\\Users\\Dario Mikuš\\AppData\\Local\\Temp\\ipykernel_11980\\1448289988.py:7: FutureWarning: Series.__getitem__ treating keys as positions is deprecated. In a future version, integer keys will always be treated as labels (consistent with DataFrame behavior). To access a value by position, use `ser.iloc[pos]`\n",
      "  if help[\"Open\"][i] == help[\"Close\"][i]:\n"
     ]
    }
   ],
   "source": [
    "result = []\n",
    "\n",
    "for i in [\"MSI\", \"KMX\", \"DVN\", \"IPG\"]:\n",
    "    counter = 0\n",
    "    help = data[data[\"company\"] == i]\n",
    "    for i in range(1, len(help)):\n",
    "        if help[\"Open\"][i] == help[\"Close\"][i]:\n",
    "            counter += 1\n",
    "    if counter == len(help):\n",
    "        result.append(i)"
   ]
  },
  {
   "cell_type": "code",
   "execution_count": 77,
   "id": "e9b27f90-1a0a-4fde-a9c7-fd0e7a522286",
   "metadata": {},
   "outputs": [
    {
     "name": "stdout",
     "output_type": "stream",
     "text": [
      "[]\n"
     ]
    }
   ],
   "source": [
    "print(result)"
   ]
  },
  {
   "cell_type": "markdown",
   "id": "b3d32428-cbdd-450e-a0b6-50947f80ae38",
   "metadata": {},
   "source": [
    "TASK2"
   ]
  },
  {
   "cell_type": "code",
   "execution_count": 78,
   "id": "584fa294-1a86-47c3-9f75-e45f2d62899a",
   "metadata": {},
   "outputs": [
    {
     "data": {
      "text/html": [
       "<div>\n",
       "<style scoped>\n",
       "    .dataframe tbody tr th:only-of-type {\n",
       "        vertical-align: middle;\n",
       "    }\n",
       "\n",
       "    .dataframe tbody tr th {\n",
       "        vertical-align: top;\n",
       "    }\n",
       "\n",
       "    .dataframe thead th {\n",
       "        text-align: right;\n",
       "    }\n",
       "</style>\n",
       "<table border=\"1\" class=\"dataframe\">\n",
       "  <thead>\n",
       "    <tr style=\"text-align: right;\">\n",
       "      <th></th>\n",
       "      <th>min</th>\n",
       "      <th>max</th>\n",
       "    </tr>\n",
       "    <tr>\n",
       "      <th>company</th>\n",
       "      <th></th>\n",
       "      <th></th>\n",
       "    </tr>\n",
       "  </thead>\n",
       "  <tbody>\n",
       "    <tr>\n",
       "      <th>DVN</th>\n",
       "      <td>4.110</td>\n",
       "      <td>69.348</td>\n",
       "    </tr>\n",
       "    <tr>\n",
       "      <th>IPG</th>\n",
       "      <td>10.490</td>\n",
       "      <td>35.567</td>\n",
       "    </tr>\n",
       "    <tr>\n",
       "      <th>KMX</th>\n",
       "      <td>44.270</td>\n",
       "      <td>154.850</td>\n",
       "    </tr>\n",
       "    <tr>\n",
       "      <th>MSI</th>\n",
       "      <td>68.604</td>\n",
       "      <td>266.323</td>\n",
       "    </tr>\n",
       "  </tbody>\n",
       "</table>\n",
       "</div>"
      ],
      "text/plain": [
       "            min      max\n",
       "company                 \n",
       "DVN       4.110   69.348\n",
       "IPG      10.490   35.567\n",
       "KMX      44.270  154.850\n",
       "MSI      68.604  266.323"
      ]
     },
     "execution_count": 78,
     "metadata": {},
     "output_type": "execute_result"
    }
   ],
   "source": [
    "data.groupby(\"company\")[\"Close\"].agg([\"min\", \"max\"])"
   ]
  },
  {
   "cell_type": "markdown",
   "id": "d3e1bc2f-c803-42d4-b2fd-92a3c6433f44",
   "metadata": {},
   "source": [
    "TASK3"
   ]
  },
  {
   "cell_type": "code",
   "execution_count": 79,
   "id": "b26c8015-be63-4104-ae3c-ebdd859bb100",
   "metadata": {},
   "outputs": [],
   "source": [
    "data['log_return'] = np.log1p(data.Close.pct_change())"
   ]
  },
  {
   "cell_type": "code",
   "execution_count": 80,
   "id": "155a5a5a-6da3-47e2-b79a-ea6d7a03112b",
   "metadata": {},
   "outputs": [],
   "source": [
    "distr = data.groupby(\"company\")[\"log_return\"].agg([\"min\", \"max\", \"mean\", \"median\"])"
   ]
  },
  {
   "cell_type": "code",
   "execution_count": 81,
   "id": "889f6ab2-639d-4a34-a712-ab4b3492f9b8",
   "metadata": {},
   "outputs": [
    {
     "data": {
      "text/html": [
       "<div>\n",
       "<style scoped>\n",
       "    .dataframe tbody tr th:only-of-type {\n",
       "        vertical-align: middle;\n",
       "    }\n",
       "\n",
       "    .dataframe tbody tr th {\n",
       "        vertical-align: top;\n",
       "    }\n",
       "\n",
       "    .dataframe thead th {\n",
       "        text-align: right;\n",
       "    }\n",
       "</style>\n",
       "<table border=\"1\" class=\"dataframe\">\n",
       "  <thead>\n",
       "    <tr style=\"text-align: right;\">\n",
       "      <th></th>\n",
       "      <th>min</th>\n",
       "      <th>max</th>\n",
       "      <th>mean</th>\n",
       "      <th>median</th>\n",
       "    </tr>\n",
       "    <tr>\n",
       "      <th>company</th>\n",
       "      <th></th>\n",
       "      <th></th>\n",
       "      <th></th>\n",
       "      <th></th>\n",
       "    </tr>\n",
       "  </thead>\n",
       "  <tbody>\n",
       "    <tr>\n",
       "      <th>DVN</th>\n",
       "      <td>-0.571710</td>\n",
       "      <td>0.191203</td>\n",
       "      <td>-0.000051</td>\n",
       "      <td>0.000566</td>\n",
       "    </tr>\n",
       "    <tr>\n",
       "      <th>IPG</th>\n",
       "      <td>-1.174851</td>\n",
       "      <td>0.136966</td>\n",
       "      <td>-0.000393</td>\n",
       "      <td>0.000889</td>\n",
       "    </tr>\n",
       "    <tr>\n",
       "      <th>KMX</th>\n",
       "      <td>-1.359856</td>\n",
       "      <td>0.166118</td>\n",
       "      <td>-0.000942</td>\n",
       "      <td>0.000808</td>\n",
       "    </tr>\n",
       "    <tr>\n",
       "      <th>MSI</th>\n",
       "      <td>-0.127353</td>\n",
       "      <td>0.132083</td>\n",
       "      <td>0.000812</td>\n",
       "      <td>0.001443</td>\n",
       "    </tr>\n",
       "  </tbody>\n",
       "</table>\n",
       "</div>"
      ],
      "text/plain": [
       "              min       max      mean    median\n",
       "company                                        \n",
       "DVN     -0.571710  0.191203 -0.000051  0.000566\n",
       "IPG     -1.174851  0.136966 -0.000393  0.000889\n",
       "KMX     -1.359856  0.166118 -0.000942  0.000808\n",
       "MSI     -0.127353  0.132083  0.000812  0.001443"
      ]
     },
     "execution_count": 81,
     "metadata": {},
     "output_type": "execute_result"
    }
   ],
   "source": [
    "distr"
   ]
  },
  {
   "cell_type": "markdown",
   "id": "78f2a2f7-4ac3-4acb-bb13-34c5308bcb45",
   "metadata": {},
   "source": [
    "TASK4"
   ]
  },
  {
   "cell_type": "code",
   "execution_count": 82,
   "id": "f66dfd5d-f5bc-42d1-a34e-2fbc63c49e0f",
   "metadata": {},
   "outputs": [
    {
     "data": {
      "text/html": [
       "<div>\n",
       "<style scoped>\n",
       "    .dataframe tbody tr th:only-of-type {\n",
       "        vertical-align: middle;\n",
       "    }\n",
       "\n",
       "    .dataframe tbody tr th {\n",
       "        vertical-align: top;\n",
       "    }\n",
       "\n",
       "    .dataframe thead th {\n",
       "        text-align: right;\n",
       "    }\n",
       "</style>\n",
       "<table border=\"1\" class=\"dataframe\">\n",
       "  <thead>\n",
       "    <tr style=\"text-align: right;\">\n",
       "      <th></th>\n",
       "      <th>idxmax</th>\n",
       "      <th>idxmin</th>\n",
       "    </tr>\n",
       "    <tr>\n",
       "      <th>company</th>\n",
       "      <th></th>\n",
       "      <th></th>\n",
       "    </tr>\n",
       "  </thead>\n",
       "  <tbody>\n",
       "    <tr>\n",
       "      <th>DVN</th>\n",
       "      <td>2020-03-19</td>\n",
       "      <td>2017-01-03</td>\n",
       "    </tr>\n",
       "    <tr>\n",
       "      <th>IPG</th>\n",
       "      <td>2020-03-24</td>\n",
       "      <td>2017-01-03</td>\n",
       "    </tr>\n",
       "    <tr>\n",
       "      <th>KMX</th>\n",
       "      <td>2020-03-24</td>\n",
       "      <td>2017-01-03</td>\n",
       "    </tr>\n",
       "    <tr>\n",
       "      <th>MSI</th>\n",
       "      <td>2019-02-08</td>\n",
       "      <td>2020-03-12</td>\n",
       "    </tr>\n",
       "  </tbody>\n",
       "</table>\n",
       "</div>"
      ],
      "text/plain": [
       "             idxmax      idxmin\n",
       "company                        \n",
       "DVN      2020-03-19  2017-01-03\n",
       "IPG      2020-03-24  2017-01-03\n",
       "KMX      2020-03-24  2017-01-03\n",
       "MSI      2019-02-08  2020-03-12"
      ]
     },
     "execution_count": 82,
     "metadata": {},
     "output_type": "execute_result"
    }
   ],
   "source": [
    "data.groupby(\"company\")[\"log_return\"].agg([\"idxmax\", \"idxmin\"])"
   ]
  },
  {
   "cell_type": "markdown",
   "id": "bfbc8e28-a1c7-42b8-8dac-e6b565fc220e",
   "metadata": {},
   "source": [
    "TASK5"
   ]
  },
  {
   "cell_type": "code",
   "execution_count": 83,
   "id": "69535968-4458-44fe-8aa6-d8e5db7b4217",
   "metadata": {},
   "outputs": [],
   "source": [
    "data = data.reset_index()"
   ]
  },
  {
   "cell_type": "code",
   "execution_count": 84,
   "id": "11842b3f-4d2b-459f-bc89-31b29340f8cf",
   "metadata": {},
   "outputs": [],
   "source": [
    "data[\"YW\"] = pd.to_datetime(data[\"Date\"]).dt.strftime('%Y_%W')"
   ]
  },
  {
   "cell_type": "code",
   "execution_count": 85,
   "id": "0a9452a6-67c7-4a9b-b4fd-8bc0322f2ca1",
   "metadata": {},
   "outputs": [
    {
     "data": {
      "text/html": [
       "<div>\n",
       "<style scoped>\n",
       "    .dataframe tbody tr th:only-of-type {\n",
       "        vertical-align: middle;\n",
       "    }\n",
       "\n",
       "    .dataframe tbody tr th {\n",
       "        vertical-align: top;\n",
       "    }\n",
       "\n",
       "    .dataframe thead th {\n",
       "        text-align: right;\n",
       "    }\n",
       "</style>\n",
       "<table border=\"1\" class=\"dataframe\">\n",
       "  <thead>\n",
       "    <tr style=\"text-align: right;\">\n",
       "      <th></th>\n",
       "      <th>Date</th>\n",
       "      <th>Open</th>\n",
       "      <th>High</th>\n",
       "      <th>Low</th>\n",
       "      <th>Close</th>\n",
       "      <th>Volume</th>\n",
       "      <th>Dividends</th>\n",
       "      <th>Stock Splits</th>\n",
       "      <th>company</th>\n",
       "      <th>log_return</th>\n",
       "      <th>YW</th>\n",
       "    </tr>\n",
       "  </thead>\n",
       "  <tbody>\n",
       "    <tr>\n",
       "      <th>0</th>\n",
       "      <td>2017-01-03</td>\n",
       "      <td>73.971</td>\n",
       "      <td>74.441</td>\n",
       "      <td>73.643</td>\n",
       "      <td>74.157</td>\n",
       "      <td>1029000</td>\n",
       "      <td>0.0</td>\n",
       "      <td>0.0</td>\n",
       "      <td>MSI</td>\n",
       "      <td>NaN</td>\n",
       "      <td>2017_01</td>\n",
       "    </tr>\n",
       "    <tr>\n",
       "      <th>1</th>\n",
       "      <td>2017-01-04</td>\n",
       "      <td>74.113</td>\n",
       "      <td>74.450</td>\n",
       "      <td>73.731</td>\n",
       "      <td>74.060</td>\n",
       "      <td>778200</td>\n",
       "      <td>0.0</td>\n",
       "      <td>0.0</td>\n",
       "      <td>MSI</td>\n",
       "      <td>-0.001309</td>\n",
       "      <td>2017_01</td>\n",
       "    </tr>\n",
       "    <tr>\n",
       "      <th>2</th>\n",
       "      <td>2017-01-05</td>\n",
       "      <td>73.838</td>\n",
       "      <td>74.184</td>\n",
       "      <td>72.738</td>\n",
       "      <td>73.306</td>\n",
       "      <td>734700</td>\n",
       "      <td>0.0</td>\n",
       "      <td>0.0</td>\n",
       "      <td>MSI</td>\n",
       "      <td>-0.010233</td>\n",
       "      <td>2017_01</td>\n",
       "    </tr>\n",
       "    <tr>\n",
       "      <th>3</th>\n",
       "      <td>2017-01-06</td>\n",
       "      <td>73.519</td>\n",
       "      <td>73.989</td>\n",
       "      <td>73.190</td>\n",
       "      <td>73.527</td>\n",
       "      <td>587700</td>\n",
       "      <td>0.0</td>\n",
       "      <td>0.0</td>\n",
       "      <td>MSI</td>\n",
       "      <td>0.003010</td>\n",
       "      <td>2017_01</td>\n",
       "    </tr>\n",
       "    <tr>\n",
       "      <th>4</th>\n",
       "      <td>2017-01-09</td>\n",
       "      <td>73.527</td>\n",
       "      <td>73.723</td>\n",
       "      <td>73.252</td>\n",
       "      <td>73.643</td>\n",
       "      <td>853300</td>\n",
       "      <td>0.0</td>\n",
       "      <td>0.0</td>\n",
       "      <td>MSI</td>\n",
       "      <td>0.001576</td>\n",
       "      <td>2017_02</td>\n",
       "    </tr>\n",
       "  </tbody>\n",
       "</table>\n",
       "</div>"
      ],
      "text/plain": [
       "         Date    Open    High     Low   Close   Volume  Dividends  \\\n",
       "0  2017-01-03  73.971  74.441  73.643  74.157  1029000        0.0   \n",
       "1  2017-01-04  74.113  74.450  73.731  74.060   778200        0.0   \n",
       "2  2017-01-05  73.838  74.184  72.738  73.306   734700        0.0   \n",
       "3  2017-01-06  73.519  73.989  73.190  73.527   587700        0.0   \n",
       "4  2017-01-09  73.527  73.723  73.252  73.643   853300        0.0   \n",
       "\n",
       "   Stock Splits company  log_return       YW  \n",
       "0           0.0     MSI         NaN  2017_01  \n",
       "1           0.0     MSI   -0.001309  2017_01  \n",
       "2           0.0     MSI   -0.010233  2017_01  \n",
       "3           0.0     MSI    0.003010  2017_01  \n",
       "4           0.0     MSI    0.001576  2017_02  "
      ]
     },
     "execution_count": 85,
     "metadata": {},
     "output_type": "execute_result"
    }
   ],
   "source": [
    "data.head()"
   ]
  },
  {
   "cell_type": "code",
   "execution_count": 86,
   "id": "0c740a04-744b-4a91-9054-99f2bcd2e18f",
   "metadata": {},
   "outputs": [
    {
     "data": {
      "text/html": [
       "<div>\n",
       "<style scoped>\n",
       "    .dataframe tbody tr th:only-of-type {\n",
       "        vertical-align: middle;\n",
       "    }\n",
       "\n",
       "    .dataframe tbody tr th {\n",
       "        vertical-align: top;\n",
       "    }\n",
       "\n",
       "    .dataframe thead th {\n",
       "        text-align: right;\n",
       "    }\n",
       "</style>\n",
       "<table border=\"1\" class=\"dataframe\">\n",
       "  <thead>\n",
       "    <tr style=\"text-align: right;\">\n",
       "      <th></th>\n",
       "      <th></th>\n",
       "      <th>Volume</th>\n",
       "    </tr>\n",
       "    <tr>\n",
       "      <th>company</th>\n",
       "      <th>YW</th>\n",
       "      <th></th>\n",
       "    </tr>\n",
       "  </thead>\n",
       "  <tbody>\n",
       "    <tr>\n",
       "      <th rowspan=\"5\" valign=\"top\">DVN</th>\n",
       "      <th>2017_01</th>\n",
       "      <td>5060425.0</td>\n",
       "    </tr>\n",
       "    <tr>\n",
       "      <th>2017_02</th>\n",
       "      <td>4378320.0</td>\n",
       "    </tr>\n",
       "    <tr>\n",
       "      <th>2017_03</th>\n",
       "      <td>3301075.0</td>\n",
       "    </tr>\n",
       "    <tr>\n",
       "      <th>2017_04</th>\n",
       "      <td>3781580.0</td>\n",
       "    </tr>\n",
       "    <tr>\n",
       "      <th>2017_05</th>\n",
       "      <td>3656160.0</td>\n",
       "    </tr>\n",
       "    <tr>\n",
       "      <th>...</th>\n",
       "      <th>...</th>\n",
       "      <td>...</td>\n",
       "    </tr>\n",
       "    <tr>\n",
       "      <th rowspan=\"5\" valign=\"top\">MSI</th>\n",
       "      <th>2022_48</th>\n",
       "      <td>860760.0</td>\n",
       "    </tr>\n",
       "    <tr>\n",
       "      <th>2022_49</th>\n",
       "      <td>546220.0</td>\n",
       "    </tr>\n",
       "    <tr>\n",
       "      <th>2022_50</th>\n",
       "      <td>846000.0</td>\n",
       "    </tr>\n",
       "    <tr>\n",
       "      <th>2022_51</th>\n",
       "      <td>467620.0</td>\n",
       "    </tr>\n",
       "    <tr>\n",
       "      <th>2022_52</th>\n",
       "      <td>311150.0</td>\n",
       "    </tr>\n",
       "  </tbody>\n",
       "</table>\n",
       "<p>1260 rows × 1 columns</p>\n",
       "</div>"
      ],
      "text/plain": [
       "                    Volume\n",
       "company YW                \n",
       "DVN     2017_01  5060425.0\n",
       "        2017_02  4378320.0\n",
       "        2017_03  3301075.0\n",
       "        2017_04  3781580.0\n",
       "        2017_05  3656160.0\n",
       "...                    ...\n",
       "MSI     2022_48   860760.0\n",
       "        2022_49   546220.0\n",
       "        2022_50   846000.0\n",
       "        2022_51   467620.0\n",
       "        2022_52   311150.0\n",
       "\n",
       "[1260 rows x 1 columns]"
      ]
     },
     "execution_count": 86,
     "metadata": {},
     "output_type": "execute_result"
    }
   ],
   "source": [
    "data.groupby([\"company\", \"YW\"])[[\"Volume\"]].mean()"
   ]
  },
  {
   "cell_type": "markdown",
   "id": "dafddf16-27e2-46fa-b814-24f2cfc283c8",
   "metadata": {},
   "source": [
    "TASK6"
   ]
  },
  {
   "cell_type": "code",
   "execution_count": 87,
   "id": "ea297099-ecb4-495e-bef9-cda21a2747d4",
   "metadata": {},
   "outputs": [],
   "source": [
    "data[\"Gains\"] = data[\"Close\"] - data[\"Open\"]"
   ]
  },
  {
   "cell_type": "code",
   "execution_count": 88,
   "id": "c357ec8a-1215-433d-a846-c8e98db43db7",
   "metadata": {},
   "outputs": [
    {
     "data": {
      "text/html": [
       "<div>\n",
       "<style scoped>\n",
       "    .dataframe tbody tr th:only-of-type {\n",
       "        vertical-align: middle;\n",
       "    }\n",
       "\n",
       "    .dataframe tbody tr th {\n",
       "        vertical-align: top;\n",
       "    }\n",
       "\n",
       "    .dataframe thead th {\n",
       "        text-align: right;\n",
       "    }\n",
       "</style>\n",
       "<table border=\"1\" class=\"dataframe\">\n",
       "  <thead>\n",
       "    <tr style=\"text-align: right;\">\n",
       "      <th></th>\n",
       "      <th>Gains</th>\n",
       "    </tr>\n",
       "    <tr>\n",
       "      <th>company</th>\n",
       "      <th></th>\n",
       "    </tr>\n",
       "  </thead>\n",
       "  <tbody>\n",
       "    <tr>\n",
       "      <th>DVN</th>\n",
       "      <td>-23.362</td>\n",
       "    </tr>\n",
       "    <tr>\n",
       "      <th>IPG</th>\n",
       "      <td>0.088</td>\n",
       "    </tr>\n",
       "    <tr>\n",
       "      <th>KMX</th>\n",
       "      <td>-2.710</td>\n",
       "    </tr>\n",
       "    <tr>\n",
       "      <th>MSI</th>\n",
       "      <td>55.037</td>\n",
       "    </tr>\n",
       "  </tbody>\n",
       "</table>\n",
       "</div>"
      ],
      "text/plain": [
       "          Gains\n",
       "company        \n",
       "DVN     -23.362\n",
       "IPG       0.088\n",
       "KMX      -2.710\n",
       "MSI      55.037"
      ]
     },
     "execution_count": 88,
     "metadata": {},
     "output_type": "execute_result"
    }
   ],
   "source": [
    "data.groupby(\"company\")[[\"Gains\"]].sum()"
   ]
  },
  {
   "cell_type": "code",
   "execution_count": 89,
   "id": "2342b0db-c3dd-4451-af45-bec93d440635",
   "metadata": {},
   "outputs": [
    {
     "data": {
      "text/html": [
       "<div>\n",
       "<style scoped>\n",
       "    .dataframe tbody tr th:only-of-type {\n",
       "        vertical-align: middle;\n",
       "    }\n",
       "\n",
       "    .dataframe tbody tr th {\n",
       "        vertical-align: top;\n",
       "    }\n",
       "\n",
       "    .dataframe thead th {\n",
       "        text-align: right;\n",
       "    }\n",
       "</style>\n",
       "<table border=\"1\" class=\"dataframe\">\n",
       "  <thead>\n",
       "    <tr style=\"text-align: right;\">\n",
       "      <th></th>\n",
       "      <th>Open</th>\n",
       "    </tr>\n",
       "    <tr>\n",
       "      <th>company</th>\n",
       "      <th></th>\n",
       "    </tr>\n",
       "  </thead>\n",
       "  <tbody>\n",
       "    <tr>\n",
       "      <th>DVN</th>\n",
       "      <td>34.186</td>\n",
       "    </tr>\n",
       "    <tr>\n",
       "      <th>IPG</th>\n",
       "      <td>17.506</td>\n",
       "    </tr>\n",
       "    <tr>\n",
       "      <th>KMX</th>\n",
       "      <td>65.030</td>\n",
       "    </tr>\n",
       "    <tr>\n",
       "      <th>MSI</th>\n",
       "      <td>73.971</td>\n",
       "    </tr>\n",
       "  </tbody>\n",
       "</table>\n",
       "</div>"
      ],
      "text/plain": [
       "           Open\n",
       "company        \n",
       "DVN      34.186\n",
       "IPG      17.506\n",
       "KMX      65.030\n",
       "MSI      73.971"
      ]
     },
     "execution_count": 89,
     "metadata": {},
     "output_type": "execute_result"
    }
   ],
   "source": [
    "data.groupby(\"company\")[[\"Open\"]].first()"
   ]
  },
  {
   "cell_type": "code",
   "execution_count": 90,
   "id": "addb6c26-84df-4762-a2f2-89c88f905d8a",
   "metadata": {},
   "outputs": [],
   "source": [
    "#MSI"
   ]
  },
  {
   "cell_type": "markdown",
   "id": "f45056bb-a487-4899-a949-a989c95ac270",
   "metadata": {},
   "source": [
    "TASK7"
   ]
  },
  {
   "cell_type": "markdown",
   "id": "c7325fa4-6cc0-4753-b0df-7b2e5899cfcf",
   "metadata": {},
   "source": [
    "PROBLEM 2"
   ]
  },
  {
   "cell_type": "code",
   "execution_count": 91,
   "id": "42f22a70-d854-4c17-9082-1a923ee25706",
   "metadata": {},
   "outputs": [],
   "source": [
    "df = pd.read_csv(\"https://ies-fsv.s3.eu-central-1.amazonaws.com/companies/companies_no_subindustry.csv\")"
   ]
  },
  {
   "cell_type": "markdown",
   "id": "3a36d95c-f9c5-41a8-99a7-56207d2e8444",
   "metadata": {},
   "source": [
    "TASK1"
   ]
  },
  {
   "cell_type": "code",
   "execution_count": 92,
   "id": "899d4d5d-c211-4625-af12-0ec784f7aa2e",
   "metadata": {},
   "outputs": [
    {
     "data": {
      "text/plain": [
       "45"
      ]
     },
     "execution_count": 92,
     "metadata": {},
     "output_type": "execute_result"
    }
   ],
   "source": [
    "df[\"included\"].isnull().sum()"
   ]
  },
  {
   "cell_type": "markdown",
   "id": "1b80a94a-3351-4d26-a0a8-4b946705bc6b",
   "metadata": {},
   "source": [
    "TASK2"
   ]
  },
  {
   "cell_type": "code",
   "execution_count": 93,
   "id": "91ab6bcd-fca5-402c-90a6-22a7c32b289b",
   "metadata": {},
   "outputs": [],
   "source": [
    "df = df[df[\"included\"].isna() == False]"
   ]
  },
  {
   "cell_type": "code",
   "execution_count": 94,
   "id": "b23462ca-76e8-46e6-a274-47ba82fd5236",
   "metadata": {},
   "outputs": [],
   "source": [
    "from datetime import datetime as dt"
   ]
  },
  {
   "cell_type": "code",
   "execution_count": 95,
   "id": "83ae13bd-2e9f-4f30-8a1e-01e0bc290beb",
   "metadata": {},
   "outputs": [],
   "source": [
    "df[\"included\"] = pd.to_datetime (df[\"included\"], dayfirst=True, errors='coerce')"
   ]
  },
  {
   "cell_type": "code",
   "execution_count": 96,
   "id": "eb7dfc68-c219-4510-894a-f898e31a8ab7",
   "metadata": {},
   "outputs": [],
   "source": [
    "df[\"age\"] = np.nan"
   ]
  },
  {
   "cell_type": "code",
   "execution_count": 97,
   "id": "3e517a09-7b65-42ba-ba68-24f6caa26bf7",
   "metadata": {},
   "outputs": [
    {
     "data": {
      "text/html": [
       "<div>\n",
       "<style scoped>\n",
       "    .dataframe tbody tr th:only-of-type {\n",
       "        vertical-align: middle;\n",
       "    }\n",
       "\n",
       "    .dataframe tbody tr th {\n",
       "        vertical-align: top;\n",
       "    }\n",
       "\n",
       "    .dataframe thead th {\n",
       "        text-align: right;\n",
       "    }\n",
       "</style>\n",
       "<table border=\"1\" class=\"dataframe\">\n",
       "  <thead>\n",
       "    <tr style=\"text-align: right;\">\n",
       "      <th></th>\n",
       "      <th>Symbol</th>\n",
       "      <th>Security</th>\n",
       "      <th>GICS_Sector</th>\n",
       "      <th>hq</th>\n",
       "      <th>included</th>\n",
       "      <th>Founded</th>\n",
       "      <th>age</th>\n",
       "    </tr>\n",
       "  </thead>\n",
       "  <tbody>\n",
       "    <tr>\n",
       "      <th>0</th>\n",
       "      <td>MMM</td>\n",
       "      <td>3M</td>\n",
       "      <td>Industrials</td>\n",
       "      <td>Saint Paul, Minnesota</td>\n",
       "      <td>1976-08-09</td>\n",
       "      <td>1902</td>\n",
       "      <td>NaN</td>\n",
       "    </tr>\n",
       "    <tr>\n",
       "      <th>1</th>\n",
       "      <td>AOS</td>\n",
       "      <td>A. O. Smith</td>\n",
       "      <td>Industrials</td>\n",
       "      <td>Milwaukee, Wisconsin</td>\n",
       "      <td>2017-07-26</td>\n",
       "      <td>1916</td>\n",
       "      <td>NaN</td>\n",
       "    </tr>\n",
       "    <tr>\n",
       "      <th>2</th>\n",
       "      <td>ABT</td>\n",
       "      <td>Abbott</td>\n",
       "      <td>Health Care</td>\n",
       "      <td>North Chicago, Illinois</td>\n",
       "      <td>1964-03-31</td>\n",
       "      <td>1888</td>\n",
       "      <td>NaN</td>\n",
       "    </tr>\n",
       "    <tr>\n",
       "      <th>3</th>\n",
       "      <td>ABBV</td>\n",
       "      <td>AbbVie</td>\n",
       "      <td>Health Care</td>\n",
       "      <td>North Chicago, Illinois</td>\n",
       "      <td>2012-12-31</td>\n",
       "      <td>2013 (1888)</td>\n",
       "      <td>NaN</td>\n",
       "    </tr>\n",
       "    <tr>\n",
       "      <th>4</th>\n",
       "      <td>ABMD</td>\n",
       "      <td>Abiomed</td>\n",
       "      <td>Health Care</td>\n",
       "      <td>Danvers, Massachusetts</td>\n",
       "      <td>2018-05-31</td>\n",
       "      <td>1981</td>\n",
       "      <td>NaN</td>\n",
       "    </tr>\n",
       "  </tbody>\n",
       "</table>\n",
       "</div>"
      ],
      "text/plain": [
       "  Symbol     Security  GICS_Sector                       hq   included  \\\n",
       "0    MMM           3M  Industrials    Saint Paul, Minnesota 1976-08-09   \n",
       "1    AOS  A. O. Smith  Industrials     Milwaukee, Wisconsin 2017-07-26   \n",
       "2    ABT       Abbott  Health Care  North Chicago, Illinois 1964-03-31   \n",
       "3   ABBV       AbbVie  Health Care  North Chicago, Illinois 2012-12-31   \n",
       "4   ABMD      Abiomed  Health Care   Danvers, Massachusetts 2018-05-31   \n",
       "\n",
       "       Founded  age  \n",
       "0         1902  NaN  \n",
       "1         1916  NaN  \n",
       "2         1888  NaN  \n",
       "3  2013 (1888)  NaN  \n",
       "4         1981  NaN  "
      ]
     },
     "execution_count": 97,
     "metadata": {},
     "output_type": "execute_result"
    }
   ],
   "source": [
    "df.head()"
   ]
  },
  {
   "cell_type": "code",
   "execution_count": 98,
   "id": "abe4c76b-6bc0-471a-bd15-04fe6fee57cd",
   "metadata": {},
   "outputs": [],
   "source": [
    "df[\"age\"] = (pd.to_datetime(\"now\") - df[\"included\"])"
   ]
  },
  {
   "cell_type": "code",
   "execution_count": 99,
   "id": "e253477f-e3a3-4a8f-93bf-09800168a4af",
   "metadata": {},
   "outputs": [],
   "source": [
    "df['age']=df['age']//np.timedelta64(1,'D')    "
   ]
  },
  {
   "cell_type": "code",
   "execution_count": 100,
   "id": "0a03bd30-89a5-4143-8a1e-7c793061b270",
   "metadata": {},
   "outputs": [],
   "source": [
    "df = df.set_index(\"Symbol\")"
   ]
  },
  {
   "cell_type": "code",
   "execution_count": 101,
   "id": "76260fc3-0a3d-49ff-810f-ce73946ad3f7",
   "metadata": {},
   "outputs": [
    {
     "data": {
      "text/plain": [
       "idxmin    ACGL\n",
       "idxmax      MO\n",
       "Name: age, dtype: object"
      ]
     },
     "execution_count": 101,
     "metadata": {},
     "output_type": "execute_result"
    }
   ],
   "source": [
    "df[\"age\"].agg([\"idxmin\", \"idxmax\"])"
   ]
  },
  {
   "cell_type": "code",
   "execution_count": 102,
   "id": "84b367bb-2c2f-4045-a766-12951f786e1e",
   "metadata": {},
   "outputs": [
    {
     "data": {
      "text/plain": [
       "8570.7010989011"
      ]
     },
     "execution_count": 102,
     "metadata": {},
     "output_type": "execute_result"
    }
   ],
   "source": [
    "df[\"age\"].mean()"
   ]
  },
  {
   "cell_type": "markdown",
   "id": "74c247e7-2df5-44aa-8b44-1806eba1fa93",
   "metadata": {},
   "source": [
    "TASK3"
   ]
  },
  {
   "cell_type": "code",
   "execution_count": 103,
   "id": "6085aa66-7ea2-414d-bfca-17c643fa02ce",
   "metadata": {},
   "outputs": [
    {
     "data": {
      "text/html": [
       "<div>\n",
       "<style scoped>\n",
       "    .dataframe tbody tr th:only-of-type {\n",
       "        vertical-align: middle;\n",
       "    }\n",
       "\n",
       "    .dataframe tbody tr th {\n",
       "        vertical-align: top;\n",
       "    }\n",
       "\n",
       "    .dataframe thead th {\n",
       "        text-align: right;\n",
       "    }\n",
       "</style>\n",
       "<table border=\"1\" class=\"dataframe\">\n",
       "  <thead>\n",
       "    <tr style=\"text-align: right;\">\n",
       "      <th></th>\n",
       "      <th>Security</th>\n",
       "      <th>GICS_Sector</th>\n",
       "      <th>hq</th>\n",
       "      <th>included</th>\n",
       "      <th>Founded</th>\n",
       "      <th>age</th>\n",
       "    </tr>\n",
       "    <tr>\n",
       "      <th>Symbol</th>\n",
       "      <th></th>\n",
       "      <th></th>\n",
       "      <th></th>\n",
       "      <th></th>\n",
       "      <th></th>\n",
       "      <th></th>\n",
       "    </tr>\n",
       "  </thead>\n",
       "  <tbody>\n",
       "    <tr>\n",
       "      <th>MMM</th>\n",
       "      <td>3M</td>\n",
       "      <td>Industrials</td>\n",
       "      <td>Saint Paul, Minnesota</td>\n",
       "      <td>1976-08-09</td>\n",
       "      <td>1902</td>\n",
       "      <td>17640.0</td>\n",
       "    </tr>\n",
       "    <tr>\n",
       "      <th>AOS</th>\n",
       "      <td>A. O. Smith</td>\n",
       "      <td>Industrials</td>\n",
       "      <td>Milwaukee, Wisconsin</td>\n",
       "      <td>2017-07-26</td>\n",
       "      <td>1916</td>\n",
       "      <td>2679.0</td>\n",
       "    </tr>\n",
       "    <tr>\n",
       "      <th>ABT</th>\n",
       "      <td>Abbott</td>\n",
       "      <td>Health Care</td>\n",
       "      <td>North Chicago, Illinois</td>\n",
       "      <td>1964-03-31</td>\n",
       "      <td>1888</td>\n",
       "      <td>22154.0</td>\n",
       "    </tr>\n",
       "    <tr>\n",
       "      <th>ABBV</th>\n",
       "      <td>AbbVie</td>\n",
       "      <td>Health Care</td>\n",
       "      <td>North Chicago, Illinois</td>\n",
       "      <td>2012-12-31</td>\n",
       "      <td>2013 (1888)</td>\n",
       "      <td>4347.0</td>\n",
       "    </tr>\n",
       "    <tr>\n",
       "      <th>ABMD</th>\n",
       "      <td>Abiomed</td>\n",
       "      <td>Health Care</td>\n",
       "      <td>Danvers, Massachusetts</td>\n",
       "      <td>2018-05-31</td>\n",
       "      <td>1981</td>\n",
       "      <td>2370.0</td>\n",
       "    </tr>\n",
       "  </tbody>\n",
       "</table>\n",
       "</div>"
      ],
      "text/plain": [
       "           Security  GICS_Sector                       hq   included  \\\n",
       "Symbol                                                                 \n",
       "MMM              3M  Industrials    Saint Paul, Minnesota 1976-08-09   \n",
       "AOS     A. O. Smith  Industrials     Milwaukee, Wisconsin 2017-07-26   \n",
       "ABT          Abbott  Health Care  North Chicago, Illinois 1964-03-31   \n",
       "ABBV         AbbVie  Health Care  North Chicago, Illinois 2012-12-31   \n",
       "ABMD        Abiomed  Health Care   Danvers, Massachusetts 2018-05-31   \n",
       "\n",
       "            Founded      age  \n",
       "Symbol                        \n",
       "MMM            1902  17640.0  \n",
       "AOS            1916   2679.0  \n",
       "ABT            1888  22154.0  \n",
       "ABBV    2013 (1888)   4347.0  \n",
       "ABMD           1981   2370.0  "
      ]
     },
     "execution_count": 103,
     "metadata": {},
     "output_type": "execute_result"
    }
   ],
   "source": [
    "df.head()"
   ]
  },
  {
   "cell_type": "code",
   "execution_count": 104,
   "id": "6a320117-3db1-4bc4-85b5-ad819b6919e0",
   "metadata": {},
   "outputs": [],
   "source": [
    "distr = df.groupby(\"GICS_Sector\")[[\"Security\"]].count()"
   ]
  },
  {
   "cell_type": "code",
   "execution_count": 105,
   "id": "ee76c077-b4a3-4277-a0ce-89b5b6671e9c",
   "metadata": {},
   "outputs": [
    {
     "data": {
      "text/html": [
       "<div>\n",
       "<style scoped>\n",
       "    .dataframe tbody tr th:only-of-type {\n",
       "        vertical-align: middle;\n",
       "    }\n",
       "\n",
       "    .dataframe tbody tr th {\n",
       "        vertical-align: top;\n",
       "    }\n",
       "\n",
       "    .dataframe thead th {\n",
       "        text-align: right;\n",
       "    }\n",
       "</style>\n",
       "<table border=\"1\" class=\"dataframe\">\n",
       "  <thead>\n",
       "    <tr style=\"text-align: right;\">\n",
       "      <th></th>\n",
       "      <th>Security</th>\n",
       "    </tr>\n",
       "    <tr>\n",
       "      <th>GICS_Sector</th>\n",
       "      <th></th>\n",
       "    </tr>\n",
       "  </thead>\n",
       "  <tbody>\n",
       "    <tr>\n",
       "      <th>Communication Services</th>\n",
       "      <td>23</td>\n",
       "    </tr>\n",
       "    <tr>\n",
       "      <th>Consumer Discretionary</th>\n",
       "      <td>52</td>\n",
       "    </tr>\n",
       "    <tr>\n",
       "      <th>Consumer Staples</th>\n",
       "      <td>33</td>\n",
       "    </tr>\n",
       "    <tr>\n",
       "      <th>Energy</th>\n",
       "      <td>22</td>\n",
       "    </tr>\n",
       "    <tr>\n",
       "      <th>Financials</th>\n",
       "      <td>55</td>\n",
       "    </tr>\n",
       "    <tr>\n",
       "      <th>Health Care</th>\n",
       "      <td>60</td>\n",
       "    </tr>\n",
       "    <tr>\n",
       "      <th>Industrials</th>\n",
       "      <td>66</td>\n",
       "    </tr>\n",
       "    <tr>\n",
       "      <th>Information Technology</th>\n",
       "      <td>68</td>\n",
       "    </tr>\n",
       "    <tr>\n",
       "      <th>Materials</th>\n",
       "      <td>26</td>\n",
       "    </tr>\n",
       "    <tr>\n",
       "      <th>Real Estate</th>\n",
       "      <td>30</td>\n",
       "    </tr>\n",
       "    <tr>\n",
       "      <th>Utilities</th>\n",
       "      <td>23</td>\n",
       "    </tr>\n",
       "  </tbody>\n",
       "</table>\n",
       "</div>"
      ],
      "text/plain": [
       "                        Security\n",
       "GICS_Sector                     \n",
       "Communication Services        23\n",
       "Consumer Discretionary        52\n",
       "Consumer Staples              33\n",
       "Energy                        22\n",
       "Financials                    55\n",
       "Health Care                   60\n",
       "Industrials                   66\n",
       "Information Technology        68\n",
       "Materials                     26\n",
       "Real Estate                   30\n",
       "Utilities                     23"
      ]
     },
     "execution_count": 105,
     "metadata": {},
     "output_type": "execute_result"
    }
   ],
   "source": [
    "distr"
   ]
  },
  {
   "cell_type": "code",
   "execution_count": 106,
   "id": "104430ae-42a6-4223-beeb-2f9e8d967caa",
   "metadata": {},
   "outputs": [
    {
     "data": {
      "image/png": "[encoded data removed]",
      "text/plain": [
       "<Figure size 5500x500 with 1 Axes>"
      ]
     },
     "metadata": {},
     "output_type": "display_data"
    }
   ],
   "source": [
    "plot = distr.plot.pie(y='Security', figsize=(55, 5), legend=False)"
   ]
  },
  {
   "cell_type": "markdown",
   "id": "8c182a6d-9941-4914-8758-e695d7c15263",
   "metadata": {},
   "source": [
    "TASK4"
   ]
  },
  {
   "cell_type": "code",
   "execution_count": 108,
   "id": "0739a734-a489-454d-8f43-17aa0f7b6198",
   "metadata": {},
   "outputs": [],
   "source": [
    "df[\"state\"] = np.nan"
   ]
  },
  {
   "cell_type": "code",
   "execution_count": 109,
   "id": "23f3be56-f1da-439f-9733-fa007fdf0db7",
   "metadata": {},
   "outputs": [
    {
     "name": "stderr",
     "output_type": "stream",
     "text": [
      "C:\\Users\\Dario Mikuš\\AppData\\Local\\Temp\\ipykernel_11980\\1231842559.py:2: FutureWarning: Series.__getitem__ treating keys as positions is deprecated. In a future version, integer keys will always be treated as labels (consistent with DataFrame behavior). To access a value by position, use `ser.iloc[pos]`\n",
      "  input_str = df[\"hq\"][i]\n",
      "C:\\Users\\Dario Mikuš\\AppData\\Local\\Temp\\ipykernel_11980\\1231842559.py:3: FutureWarning: ChainedAssignmentError: behaviour will change in pandas 3.0!\n",
      "You are setting values through chained assignment. Currently this works in certain cases, but when using Copy-on-Write (which will become the default behaviour in pandas 3.0) this will never work to update the original DataFrame or Series, because the intermediate object on which we are setting values will behave as a copy.\n",
      "A typical example is when you are setting values in a column of a DataFrame, like:\n",
      "\n",
      "df[\"col\"][row_indexer] = value\n",
      "\n",
      "Use `df.loc[row_indexer, \"col\"] = values` instead, to perform the assignment in a single step and ensure this keeps updating the original `df`.\n",
      "\n",
      "See the caveats in the documentation: https://pandas.pydata.org/pandas-docs/stable/user_guide/indexing.html#returning-a-view-versus-a-copy\n",
      "\n",
      "  df[\"state\"][i] = input_str[input_str.rindex(','):]\n",
      "C:\\Users\\Dario Mikuš\\AppData\\Local\\Temp\\ipykernel_11980\\1231842559.py:3: SettingWithCopyWarning: \n",
      "A value is trying to be set on a copy of a slice from a DataFrame\n",
      "\n",
      "See the caveats in the documentation: https://pandas.pydata.org/pandas-docs/stable/user_guide/indexing.html#returning-a-view-versus-a-copy\n",
      "  df[\"state\"][i] = input_str[input_str.rindex(','):]\n",
      "C:\\Users\\Dario Mikuš\\AppData\\Local\\Temp\\ipykernel_11980\\1231842559.py:3: FutureWarning: Series.__setitem__ treating keys as positions is deprecated. In a future version, integer keys will always be treated as labels (consistent with DataFrame behavior). To set a value by position, use `ser.iloc[pos] = value`\n",
      "  df[\"state\"][i] = input_str[input_str.rindex(','):]\n",
      "C:\\Users\\Dario Mikuš\\AppData\\Local\\Temp\\ipykernel_11980\\1231842559.py:3: FutureWarning: Setting an item of incompatible dtype is deprecated and will raise an error in a future version of pandas. Value ', Minnesota' has dtype incompatible with float64, please explicitly cast to a compatible dtype first.\n",
      "  df[\"state\"][i] = input_str[input_str.rindex(','):]\n",
      "C:\\Users\\Dario Mikuš\\AppData\\Local\\Temp\\ipykernel_11980\\1231842559.py:2: FutureWarning: Series.__getitem__ treating keys as positions is deprecated. In a future version, integer keys will always be treated as labels (consistent with DataFrame behavior). To access a value by position, use `ser.iloc[pos]`\n",
      "  input_str = df[\"hq\"][i]\n"
     ]
    }
   ],
   "source": [
    "for i in range(0,len(df)):\n",
    "    input_str = df[\"hq\"][i]\n",
    "    df[\"state\"][i] = input_str[input_str.rindex(','):]"
   ]
  },
  {
   "cell_type": "code",
   "execution_count": 110,
   "id": "0f8f32be-cedf-4f0c-b716-304e62992b88",
   "metadata": {},
   "outputs": [],
   "source": [
    "distr = df.groupby(\"state\")[[\"state\"]].count()"
   ]
  },
  {
   "cell_type": "code",
   "execution_count": 111,
   "id": "748228a5-156d-48c9-8cf3-d36642f0d890",
   "metadata": {},
   "outputs": [
    {
     "data": {
      "image/png": "[encoded data removed]",
      "text/plain": [
       "<Figure size 5500x500 with 1 Axes>"
      ]
     },
     "metadata": {},
     "output_type": "display_data"
    }
   ],
   "source": [
    "plot = distr.plot.pie(y='state', figsize=(55, 5), legend=False)"
   ]
  },
  {
   "cell_type": "code",
   "execution_count": null,
   "id": "49c19da5-31c7-41f8-8443-94d3621a210a",
   "metadata": {},
   "outputs": [],
   "source": []
  }
 ],
 "metadata": {
  "kernelspec": {
   "display_name": "Python 3 (ipykernel)",
   "language": "python",
   "name": "python3"
  },
  "language_info": {
   "codemirror_mode": {
    "name": "ipython",
    "version": 3
   },
   "file_extension": ".py",
   "mimetype": "text/x-python",
   "name": "python",
   "nbconvert_exporter": "python",
   "pygments_lexer": "ipython3",
   "version": "3.12.4"
  }
 },
 "nbformat": 4,
 "nbformat_minor": 5
}
